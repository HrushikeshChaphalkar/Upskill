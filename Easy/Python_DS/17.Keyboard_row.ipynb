{
 "cells": [
  {
   "cell_type": "code",
   "execution_count": null,
   "metadata": {},
   "outputs": [],
   "source": [
    "\"\"\"https://leetcode.com/problems/keyboard-row/description/\"\"\""
   ]
  },
  {
   "cell_type": "markdown",
   "metadata": {},
   "source": [
    "### My Solution\n"
   ]
  },
  {
   "cell_type": "code",
   "execution_count": 25,
   "metadata": {},
   "outputs": [],
   "source": [
    "def findWords(words):\n",
    "    outputs = []\n",
    "    keyboard_rows = [\"qwertyuiop\", \"asdfghjkl\", \"zxcvbnm\"]\n",
    "    for word in words:\n",
    "        for row in keyboard_rows:\n",
    "            if sum(char.lower() in row for char in word) == len(word):\n",
    "                outputs.append(word)\n",
    "\n",
    "                pass\n",
    "    return outputs"
   ]
  },
  {
   "cell_type": "code",
   "execution_count": 33,
   "metadata": {},
   "outputs": [
    {
     "data": {
      "text/plain": [
       "['Alaska', 'Dad']"
      ]
     },
     "execution_count": 33,
     "metadata": {},
     "output_type": "execute_result"
    }
   ],
   "source": [
    "words = [\"Hello\", \"Alaska\", \"Dad\", \"Peace\"]\n",
    "findWords(words)"
   ]
  },
  {
   "cell_type": "code",
   "execution_count": 32,
   "metadata": {},
   "outputs": [
    {
     "data": {
      "text/plain": [
       "[]"
      ]
     },
     "execution_count": 32,
     "metadata": {},
     "output_type": "execute_result"
    }
   ],
   "source": [
    "words = [\"omk\"]\n",
    "findWords(words)"
   ]
  },
  {
   "cell_type": "code",
   "execution_count": 31,
   "metadata": {},
   "outputs": [
    {
     "data": {
      "text/plain": [
       "['adsdf', 'sfd']"
      ]
     },
     "execution_count": 31,
     "metadata": {},
     "output_type": "execute_result"
    }
   ],
   "source": [
    "words = [\"adsdf\", \"sfd\"]\n",
    "findWords(words)"
   ]
  },
  {
   "cell_type": "markdown",
   "metadata": {},
   "source": [
    "### Efficient Solution\n",
    "\n",
    "1. Use Set and its functions\n"
   ]
  },
  {
   "cell_type": "code",
   "execution_count": 30,
   "metadata": {},
   "outputs": [],
   "source": [
    "def findWords(words):\n",
    "    outputs = []\n",
    "    keyboard_rows = [set(\"qwertyuiop\"), set(\"asdfghjkl\"), set(\"zxcvbnm\")]\n",
    "\n",
    "    for word in words:\n",
    "        lower_word = set(word.lower())\n",
    "        for row in keyboard_rows:\n",
    "            if lower_word.issubset(row):\n",
    "                outputs.append(word)\n",
    "                break\n",
    "\n",
    "    return outputs"
   ]
  },
  {
   "cell_type": "code",
   "execution_count": null,
   "metadata": {},
   "outputs": [],
   "source": []
  }
 ],
 "metadata": {
  "kernelspec": {
   "display_name": ".venv",
   "language": "python",
   "name": "python3"
  },
  "language_info": {
   "codemirror_mode": {
    "name": "ipython",
    "version": 3
   },
   "file_extension": ".py",
   "mimetype": "text/x-python",
   "name": "python",
   "nbconvert_exporter": "python",
   "pygments_lexer": "ipython3",
   "version": "3.12.5"
  }
 },
 "nbformat": 4,
 "nbformat_minor": 2
}

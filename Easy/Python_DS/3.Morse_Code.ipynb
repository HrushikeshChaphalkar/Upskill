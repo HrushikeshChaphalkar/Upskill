{
 "cells": [
  {
   "cell_type": "code",
   "execution_count": null,
   "metadata": {},
   "outputs": [],
   "source": [
    "\"\"\"\n",
    "Question URL: https://leetcode.com/problems/unique-morse-code-words/description/\n",
    "\"\"\""
   ]
  },
  {
   "cell_type": "markdown",
   "metadata": {},
   "source": [
    "### My Solution\n"
   ]
  },
  {
   "cell_type": "code",
   "execution_count": 14,
   "metadata": {},
   "outputs": [],
   "source": [
    "from collections import Counter\n",
    "\n",
    "\n",
    "def uniqueMorseRepresentations(words):\n",
    "    morse_code = [\n",
    "        \".-\",\n",
    "        \"-...\",\n",
    "        \"-.-.\",\n",
    "        \"-..\",\n",
    "        \".\",\n",
    "        \"..-.\",\n",
    "        \"--.\",\n",
    "        \"....\",\n",
    "        \"..\",\n",
    "        \".---\",\n",
    "        \"-.-\",\n",
    "        \".-..\",\n",
    "        \"--\",\n",
    "        \"-.\",\n",
    "        \"---\",\n",
    "        \".--.\",\n",
    "        \"--.-\",\n",
    "        \".-.\",\n",
    "        \"...\",\n",
    "        \"-\",\n",
    "        \"..-\",\n",
    "        \"...-\",\n",
    "        \".--\",\n",
    "        \"-..-\",\n",
    "        \"-.--\",\n",
    "        \"--..\",\n",
    "    ]\n",
    "    translations = []\n",
    "    for word in words:\n",
    "        translation = \"\"\n",
    "        for char in word:\n",
    "            translation += morse_code[ord(char) - 97]\n",
    "        translations.append(translation)\n",
    "\n",
    "    unique_morse_code = Counter(translations)\n",
    "\n",
    "    return len(unique_morse_code)"
   ]
  },
  {
   "cell_type": "code",
   "execution_count": 16,
   "metadata": {},
   "outputs": [
    {
     "data": {
      "text/plain": [
       "2"
      ]
     },
     "execution_count": 16,
     "metadata": {},
     "output_type": "execute_result"
    }
   ],
   "source": [
    "words = [\"gin\", \"zen\", \"gig\", \"msg\"]\n",
    "uniqueMorseRepresentations(words)"
   ]
  },
  {
   "cell_type": "code",
   "execution_count": 17,
   "metadata": {},
   "outputs": [
    {
     "data": {
      "text/plain": [
       "1"
      ]
     },
     "execution_count": 17,
     "metadata": {},
     "output_type": "execute_result"
    }
   ],
   "source": [
    "words = [\"a\"]\n",
    "uniqueMorseRepresentations(words)"
   ]
  },
  {
   "cell_type": "markdown",
   "metadata": {},
   "source": [
    "### Efficient Solution\n",
    "\n",
    "1. Use `set`\n"
   ]
  },
  {
   "cell_type": "code",
   "execution_count": 24,
   "metadata": {},
   "outputs": [],
   "source": [
    "def uniqueMorseRepresentations(words):\n",
    "    morse_code = [\n",
    "        \".-\",\n",
    "        \"-...\",\n",
    "        \"-.-.\",\n",
    "        \"-..\",\n",
    "        \".\",\n",
    "        \"..-.\",\n",
    "        \"--.\",\n",
    "        \"....\",\n",
    "        \"..\",\n",
    "        \".---\",\n",
    "        \"-.-\",\n",
    "        \".-..\",\n",
    "        \"--\",\n",
    "        \"-.\",\n",
    "        \"---\",\n",
    "        \".--.\",\n",
    "        \"--.-\",\n",
    "        \".-.\",\n",
    "        \"...\",\n",
    "        \"-\",\n",
    "        \"..-\",\n",
    "        \"...-\",\n",
    "        \".--\",\n",
    "        \"-..-\",\n",
    "        \"-.--\",\n",
    "        \"--..\",\n",
    "    ]\n",
    "    unique_translations = {\n",
    "        \"\".join(morse_code[ord(char) - 97] for char in word) for word in words\n",
    "    }\n",
    "\n",
    "    return len(unique_translations)"
   ]
  },
  {
   "cell_type": "code",
   "execution_count": 25,
   "metadata": {},
   "outputs": [
    {
     "data": {
      "text/plain": [
       "2"
      ]
     },
     "execution_count": 25,
     "metadata": {},
     "output_type": "execute_result"
    }
   ],
   "source": [
    "words = [\"gin\", \"zen\", \"gig\", \"msg\"]\n",
    "uniqueMorseRepresentations(words)"
   ]
  },
  {
   "cell_type": "code",
   "execution_count": 26,
   "metadata": {},
   "outputs": [
    {
     "data": {
      "text/plain": [
       "1"
      ]
     },
     "execution_count": 26,
     "metadata": {},
     "output_type": "execute_result"
    }
   ],
   "source": [
    "words = [\"a\"]\n",
    "uniqueMorseRepresentations(words)"
   ]
  },
  {
   "cell_type": "code",
   "execution_count": null,
   "metadata": {},
   "outputs": [],
   "source": []
  }
 ],
 "metadata": {
  "kernelspec": {
   "display_name": ".venv",
   "language": "python",
   "name": "python3"
  },
  "language_info": {
   "codemirror_mode": {
    "name": "ipython",
    "version": 3
   },
   "file_extension": ".py",
   "mimetype": "text/x-python",
   "name": "python",
   "nbconvert_exporter": "python",
   "pygments_lexer": "ipython3",
   "version": "3.12.5"
  }
 },
 "nbformat": 4,
 "nbformat_minor": 2
}

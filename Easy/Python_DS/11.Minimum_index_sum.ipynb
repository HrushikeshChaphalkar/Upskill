{
 "cells": [
  {
   "cell_type": "code",
   "execution_count": null,
   "metadata": {},
   "outputs": [],
   "source": [
    "\"\"\"Question: https://leetcode.com/problems/minimum-index-sum-of-two-lists/description/ \"\"\""
   ]
  },
  {
   "cell_type": "markdown",
   "metadata": {},
   "source": [
    "### My Solution\n"
   ]
  },
  {
   "cell_type": "code",
   "execution_count": 19,
   "metadata": {},
   "outputs": [],
   "source": [
    "def findRestaurant(list1, list2):\n",
    "    list1_idx = {key: idx + 1 for idx, key in enumerate(list1)}\n",
    "    list2_idx = {key: idx + 1 for idx, key in enumerate(list2)}\n",
    "    mapping = {}\n",
    "    outputs = []\n",
    "    for restaurant in list1:\n",
    "        if restaurant in list2_idx:\n",
    "            mapping[restaurant] = list1_idx[restaurant] + list2_idx[restaurant]\n",
    "    min_sum = min(values for key, values in mapping.items())\n",
    "    for key, value in mapping.items():\n",
    "        if value == min_sum:\n",
    "            outputs.append(key)\n",
    "    return outputs"
   ]
  },
  {
   "cell_type": "code",
   "execution_count": 24,
   "metadata": {},
   "outputs": [
    {
     "data": {
      "text/plain": [
       "['Shogun']"
      ]
     },
     "execution_count": 24,
     "metadata": {},
     "output_type": "execute_result"
    }
   ],
   "source": [
    "list1 = [\"Shogun\", \"Tapioca Express\", \"Burger King\", \"KFC\"]\n",
    "list2 = [\"Piatti\", \"The Grill at Torrey Pines\", \"Hungry Hunter Steakhouse\", \"Shogun\"]\n",
    "findRestaurant(list1, list2)"
   ]
  },
  {
   "cell_type": "code",
   "execution_count": 25,
   "metadata": {},
   "outputs": [
    {
     "data": {
      "text/plain": [
       "['Shogun']"
      ]
     },
     "execution_count": 25,
     "metadata": {},
     "output_type": "execute_result"
    }
   ],
   "source": [
    "list1 = [\"Shogun\", \"Tapioca Express\", \"Burger King\", \"KFC\"]\n",
    "list2 = [\"KFC\", \"Shogun\", \"Burger King\"]\n",
    "findRestaurant(list1, list2)"
   ]
  },
  {
   "cell_type": "code",
   "execution_count": 26,
   "metadata": {},
   "outputs": [
    {
     "data": {
      "text/plain": [
       "['sad', 'happy']"
      ]
     },
     "execution_count": 26,
     "metadata": {},
     "output_type": "execute_result"
    }
   ],
   "source": [
    "list1 = [\"happy\", \"sad\", \"good\"]\n",
    "list2 = [\"sad\", \"happy\", \"good\"]\n",
    "findRestaurant(list1, list2)"
   ]
  },
  {
   "cell_type": "markdown",
   "metadata": {},
   "source": [
    "### Efficient Solution\n",
    "\n",
    "1. Single loop approach\n",
    "2. Use only one index\n",
    "3. Simplify the logic\n"
   ]
  },
  {
   "cell_type": "code",
   "execution_count": 23,
   "metadata": {},
   "outputs": [],
   "source": [
    "def findRestaurant(list1, list2):\n",
    "    index_map = {value: idx for idx, value in enumerate(list1)}\n",
    "    min_sum = float(\"inf\")\n",
    "    results = []\n",
    "\n",
    "    for idx, value in enumerate(list2):\n",
    "        if value in index_map:\n",
    "            current_sum = idx + index_map[value]\n",
    "            if current_sum < min_sum:\n",
    "                min_sum = current_sum\n",
    "                results = [value]\n",
    "            elif current_sum == min_sum:\n",
    "                results.append(value)\n",
    "\n",
    "    return results"
   ]
  },
  {
   "cell_type": "code",
   "execution_count": null,
   "metadata": {},
   "outputs": [],
   "source": []
  }
 ],
 "metadata": {
  "kernelspec": {
   "display_name": ".venv",
   "language": "python",
   "name": "python3"
  },
  "language_info": {
   "codemirror_mode": {
    "name": "ipython",
    "version": 3
   },
   "file_extension": ".py",
   "mimetype": "text/x-python",
   "name": "python",
   "nbconvert_exporter": "python",
   "pygments_lexer": "ipython3",
   "version": "3.12.5"
  }
 },
 "nbformat": 4,
 "nbformat_minor": 2
}

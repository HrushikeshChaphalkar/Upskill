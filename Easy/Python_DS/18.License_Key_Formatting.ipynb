{
 "cells": [
  {
   "cell_type": "code",
   "execution_count": null,
   "metadata": {},
   "outputs": [],
   "source": [
    "\"\"\"https://leetcode.com/problems/license-key-formatting/description/\"\"\""
   ]
  },
  {
   "cell_type": "markdown",
   "metadata": {},
   "source": [
    "### My Solution\n"
   ]
  },
  {
   "cell_type": "code",
   "execution_count": 55,
   "metadata": {},
   "outputs": [],
   "source": [
    "def licenseKeyFormatting(s, k):\n",
    "    s = s.upper().split(\"-\")\n",
    "    s = \"\".join(s)\n",
    "    reminder = len(s) % k\n",
    "    outputs = []\n",
    "    if reminder > 0:\n",
    "        outputs.append(s[:reminder])\n",
    "    for i in range(reminder, len(s), k):\n",
    "        # print(s[i : i + k])\n",
    "        outputs.append(s[i : i + k])\n",
    "    return \"-\".join(outputs)"
   ]
  },
  {
   "cell_type": "code",
   "execution_count": 56,
   "metadata": {},
   "outputs": [
    {
     "data": {
      "text/plain": [
       "'5F3Z-2E9W'"
      ]
     },
     "execution_count": 56,
     "metadata": {},
     "output_type": "execute_result"
    }
   ],
   "source": [
    "s = \"5F3Z-2e-9-w\"\n",
    "k = 4\n",
    "licenseKeyFormatting(s, k)"
   ]
  },
  {
   "cell_type": "code",
   "execution_count": 57,
   "metadata": {},
   "outputs": [
    {
     "data": {
      "text/plain": [
       "'2-5G-3J'"
      ]
     },
     "execution_count": 57,
     "metadata": {},
     "output_type": "execute_result"
    }
   ],
   "source": [
    "s = \"2-5g-3-J\"\n",
    "k = 2\n",
    "licenseKeyFormatting(s, k)"
   ]
  },
  {
   "cell_type": "markdown",
   "metadata": {},
   "source": [
    "### Efficient Solution\n",
    "\n",
    "1. Use `replace` instead of removing `-` and joining\n"
   ]
  },
  {
   "cell_type": "code",
   "execution_count": null,
   "metadata": {},
   "outputs": [],
   "source": []
  }
 ],
 "metadata": {
  "kernelspec": {
   "display_name": ".venv",
   "language": "python",
   "name": "python3"
  },
  "language_info": {
   "codemirror_mode": {
    "name": "ipython",
    "version": 3
   },
   "file_extension": ".py",
   "mimetype": "text/x-python",
   "name": "python",
   "nbconvert_exporter": "python",
   "pygments_lexer": "ipython3",
   "version": "3.12.5"
  }
 },
 "nbformat": 4,
 "nbformat_minor": 2
}

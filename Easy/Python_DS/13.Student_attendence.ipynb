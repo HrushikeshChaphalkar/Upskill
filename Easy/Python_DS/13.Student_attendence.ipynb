{
 "cells": [
  {
   "cell_type": "code",
   "execution_count": null,
   "metadata": {},
   "outputs": [],
   "source": [
    "\"\"\"Question: https://leetcode.com/problems/student-attendance-record-i/description/\"\"\""
   ]
  },
  {
   "cell_type": "code",
   "execution_count": 5,
   "metadata": {},
   "outputs": [],
   "source": [
    "def checkRecord(s):\n",
    "    count_absent = 0\n",
    "    for idx, val in enumerate(s):\n",
    "        if val == \"A\":\n",
    "            count_absent += 1\n",
    "        if idx > 0 and idx < len(s):\n",
    "            if s[idx - 1 : idx + 2] == \"LLL\":\n",
    "                return False\n",
    "    if count_absent >= 2:\n",
    "        return False\n",
    "    return True"
   ]
  },
  {
   "cell_type": "code",
   "execution_count": 6,
   "metadata": {},
   "outputs": [
    {
     "data": {
      "text/plain": [
       "True"
      ]
     },
     "execution_count": 6,
     "metadata": {},
     "output_type": "execute_result"
    }
   ],
   "source": [
    "s = \"PPALLP\"\n",
    "checkRecord(s)"
   ]
  },
  {
   "cell_type": "code",
   "execution_count": 7,
   "metadata": {},
   "outputs": [
    {
     "data": {
      "text/plain": [
       "False"
      ]
     },
     "execution_count": 7,
     "metadata": {},
     "output_type": "execute_result"
    }
   ],
   "source": [
    "s = \"PPALLL\"\n",
    "checkRecord(s)"
   ]
  },
  {
   "cell_type": "markdown",
   "metadata": {},
   "source": [
    "### Efficient Solution\n",
    "\n",
    "1. Simplification\n",
    "2. Early Exit\n"
   ]
  },
  {
   "cell_type": "code",
   "execution_count": 9,
   "metadata": {},
   "outputs": [],
   "source": [
    "def checkRecord(s):\n",
    "    count_absent = 0\n",
    "    for i in range(len(s)):\n",
    "        if s[i] == \"A\":\n",
    "            count_absent += 1\n",
    "            if count_absent >= 2:\n",
    "                return False\n",
    "        if i >= 2 and s[i] == \"L\" and s[i - 1] == \"L\" and s[i - 2] == \"L\":\n",
    "            return False\n",
    "    return True"
   ]
  },
  {
   "cell_type": "code",
   "execution_count": 10,
   "metadata": {},
   "outputs": [
    {
     "data": {
      "text/plain": [
       "False"
      ]
     },
     "execution_count": 10,
     "metadata": {},
     "output_type": "execute_result"
    }
   ],
   "source": [
    "s = \"PPALLL\"\n",
    "checkRecord(s)"
   ]
  },
  {
   "cell_type": "code",
   "execution_count": null,
   "metadata": {},
   "outputs": [],
   "source": []
  }
 ],
 "metadata": {
  "kernelspec": {
   "display_name": ".venv",
   "language": "python",
   "name": "python3"
  },
  "language_info": {
   "codemirror_mode": {
    "name": "ipython",
    "version": 3
   },
   "file_extension": ".py",
   "mimetype": "text/x-python",
   "name": "python",
   "nbconvert_exporter": "python",
   "pygments_lexer": "ipython3",
   "version": "3.12.5"
  }
 },
 "nbformat": 4,
 "nbformat_minor": 2
}
